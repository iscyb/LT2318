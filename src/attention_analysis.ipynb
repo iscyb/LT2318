{
 "cells": [
  {
   "cell_type": "code",
   "execution_count": 1,
   "id": "d1ae6e6c",
   "metadata": {},
   "outputs": [],
   "source": [
    "import joblib\n",
    "\n",
    "import pandas as pd\n",
    "import numpy as np\n",
    "import joblib\n",
    "import seaborn as sns\n",
    "\n",
    "from scipy.ndimage import center_of_mass\n",
    "\n",
    "import matplotlib.pyplot as plt"
   ]
  },
  {
   "cell_type": "code",
   "execution_count": 2,
   "id": "10bb80a8",
   "metadata": {},
   "outputs": [],
   "source": [
    "predicted_corpus = joblib.load('predicted_corpus_optimal_resnet101.joblib')\n",
    "attention = joblib.load('attention_optimal_resnet101.joblib')"
   ]
  },
  {
   "cell_type": "code",
   "execution_count": 38,
   "id": "92745319",
   "metadata": {},
   "outputs": [],
   "source": [
    "def average_attention(attention, predicted_corpus, word):\n",
    "    \n",
    "    \"\"\"\n",
    "    Get attention of a specific word.\n",
    "    \n",
    "    The matrix-mean of the attention\n",
    "    \"\"\"\n",
    "    \n",
    "    idx = list(predicted_corpus.loc[predicted_corpus.apply(lambda x: word in x)].index)\n",
    "    \n",
    "    sentence_idx = predicted_corpus.loc[idx].apply(lambda x: x.index(word)) #Note: only first occurence\n",
    "    \n",
    "    word_attentions =  {i:attention[i][sentence_idx[i]] for i in idx}\n",
    "    \n",
    "    print(f'len_all: {len(predicted_corpus)}, len_word: {len(word_attentions)}')\n",
    "    mean_attention = None\n",
    "    for a in word_attentions.values():\n",
    "        if mean_attention is None:\n",
    "            mean_attention = np.copy(a)\n",
    "        else:\n",
    "            mean_attention += a\n",
    "    mean_attention = mean_attention/len(word_attentions)\n",
    "            \n",
    "    return mean_attention, predicted_corpus.loc[idx]\n",
    "\n",
    "def average_focus(attention, predicted_corpus, word, all_=False):\n",
    "    \n",
    "    \"\"\"\n",
    "    Provides focus and average attention of a specific word.\n",
    "    \"\"\"\n",
    "    \n",
    "    idx = list(predicted_corpus.loc[predicted_corpus.apply(lambda x: word in x)].index)\n",
    "    \n",
    "    sentence_idx = predicted_corpus.loc[idx].apply(lambda x: x.index(word)) #Note: only first occurence\n",
    "    \n",
    "    \n",
    "    word_attentions =  {i:attention[i][sentence_idx[i]] for i in idx}\n",
    "    \n",
    "    #print(f'len_all: {len(predicted_corpus)}, len_word: {len(word_attentions)}')\n",
    "    #mean_attention = None\n",
    "    mean_focus_strg = None\n",
    "    mean_focus_c = None\n",
    "    weighted_focus_c = None\n",
    "    \n",
    "    for a in word_attentions.values():\n",
    "        fs, fc = focus_stats(a)\n",
    "        if mean_focus_strg is None:\n",
    "            mean_focus_strg = fs\n",
    "        else:\n",
    "            mean_focus_strg += fs\n",
    "            \n",
    "        if mean_focus_c is None:\n",
    "            mean_focus_c = fc\n",
    "        else:\n",
    "            mean_focus_c = tuple([i+j for i,j in zip(mean_focus_c,fc)])\n",
    "            \n",
    "        if weighted_focus_c is None:\n",
    "            weighted_focus_c = fc\n",
    "        else:\n",
    "            weighted_focus_c = tuple([(i+j*fs) for i,j in zip(weighted_focus_c,fc)])\n",
    "        \n",
    "    L = len(word_attentions)\n",
    "    \n",
    "    weighted_focus_c = (weighted_focus_c[0]/mean_focus_strg, weighted_focus_c[1]/mean_focus_strg)\n",
    "    mean_focus_strg = mean_focus_strg/L\n",
    "    mean_focus_c = (mean_focus_c[0]/L, mean_focus_c[1]/L)\n",
    "    mean_focus_c = (mean_focus_c[0]+0.5, mean_focus_c[1]+0.5)# fix for centering in grid\n",
    "        \n",
    "    return mean_focus_strg, mean_focus_c, weighted_focus_c\n",
    "\n",
    "\n",
    "def focus_stats(attention):\n",
    "    \n",
    "    \"\"\"\n",
    "    get focus strenght and centroid\n",
    "    focus strength: avg of Q4 (last quartile)\n",
    "    focus centroid: center of mass of Q4\n",
    "    \"\"\"\n",
    "    attention = np.copy(attention)\n",
    "    \n",
    "    q4 = sorted(attention[0])[int(len(attention[0])*0.75)]\n",
    "    attention[0][attention[0]<q4] = 0\n",
    "    foc_str = round(np.mean(attention[0][attention[0]>=q4]), 5)\n",
    "    foc_c = center_of_mass(attention[0].reshape(7,7))\n",
    "               \n",
    "    foc_c = (round(np.mean(foc_c[1]), 2), round(np.mean(foc_c[0]), 2))\n",
    "    foc_c = (foc_c[0]+0.5, foc_c[1]+0.5)# fix for centering in grid\n",
    "    \n",
    "    return foc_str, foc_c"
   ]
  },
  {
   "cell_type": "code",
   "execution_count": 40,
   "id": "e1e06aff",
   "metadata": {},
   "outputs": [
    {
     "name": "stdout",
     "output_type": "stream",
     "text": [
      "0.02041\n"
     ]
    },
    {
     "data": {
      "text/plain": [
       "<matplotlib.collections.PathCollection at 0x7fdb6bf97be0>"
      ]
     },
     "execution_count": 40,
     "metadata": {},
     "output_type": "execute_result"
    },
    {
     "data": {
      "image/png": "[encoded data removed]",
      "text/plain": [
       "<Figure size 432x288 with 1 Axes>"
      ]
     },
     "metadata": {},
     "output_type": "display_data"
    }
   ],
   "source": [
    "test_avg = np.array(np.array([0 for i in range(49)]))\n",
    "test_avg[24] = 1\n",
    "test_avg = test_avg.reshape(1,49)\n",
    "\n",
    "m, c = focus_stats(test_avg)\n",
    "print(m)\n",
    "sns.heatmap(test_avg.reshape(7,7), xticklabels=[], yticklabels=[], vmin=vmin, vmax=vmax, cbar=cbar) \n",
    "plt.title('test', fontdict= fontdict)\n",
    "plt.scatter(c[0],c[1], marker='X', s=120)\n",
    "\n",
    "#plt.savefig(path+'all'+'.pdf')"
   ]
  },
  {
   "cell_type": "code",
   "execution_count": 41,
   "id": "30193397",
   "metadata": {},
   "outputs": [],
   "source": [
    "# Total average as baseline\n",
    "\n",
    "tot_avg = None\n",
    "c=0\n",
    "for i,att in attention.items():\n",
    "    for a in att:\n",
    "        if tot_avg is None:\n",
    "            tot_avg = np.copy(a)\n",
    "            c = 1\n",
    "        else:\n",
    "            tot_avg += a\n",
    "            c += 1\n",
    "            \n",
    "tot_avg = tot_avg/c"
   ]
  },
  {
   "cell_type": "code",
   "execution_count": 67,
   "id": "26f9cc36",
   "metadata": {},
   "outputs": [],
   "source": [
    "vmin = None#0.01\n",
    "vmax = None#0.035\n",
    "cbar = False#False\n",
    "path = 'results//no_bar/'\n",
    "fontdict = {'fontsize' : 18}"
   ]
  },
  {
   "cell_type": "code",
   "execution_count": 68,
   "id": "6de2f4bf",
   "metadata": {},
   "outputs": [
    {
     "name": "stdout",
     "output_type": "stream",
     "text": [
      "0.02467\n"
     ]
    },
    {
     "data": {
      "image/png": "[encoded data removed]",
      "text/plain": [
       "<Figure size 432x288 with 1 Axes>"
      ]
     },
     "metadata": {},
     "output_type": "display_data"
    }
   ],
   "source": [
    "m, c = focus_stats(tot_avg)\n",
    "print(m)\n",
    "sns.heatmap(tot_avg[0].reshape(7,7), xticklabels=[], yticklabels=[], vmin=vmin, vmax=vmax, cbar=cbar) \n",
    "plt.title('Avg. attention of all predicted words', fontdict= fontdict)\n",
    "plt.scatter(c[0],c[1], marker='X', s=120)\n",
    "\n",
    "plt.savefig(path+'all'+'.pdf')"
   ]
  },
  {
   "cell_type": "code",
   "execution_count": null,
   "id": "f71f969a",
   "metadata": {},
   "outputs": [],
   "source": [
    "# on, in, near, at, under, beside, over, behind,  inside, underneath, above, in front, between"
   ]
  },
  {
   "cell_type": "code",
   "execution_count": 69,
   "id": "f89e744d",
   "metadata": {},
   "outputs": [
    {
     "name": "stdout",
     "output_type": "stream",
     "text": [
      "len_all: 157673, len_word: 52368\n",
      "0.02634 (3.65, 4.73)\n",
      "(0.04782755310077242, (4.017938435685961, 4.350499159792215), (3.5202290741328373, 3.8545384996450354))\n"
     ]
    },
    {
     "data": {
      "image/png": "[encoded data removed]",
      "text/plain": [
       "<Figure size 432x288 with 1 Axes>"
      ]
     },
     "metadata": {},
     "output_type": "display_data"
    }
   ],
   "source": [
    "word = 'on'\n",
    "\n",
    "avg, corp = average_attention(attention, predicted_corpus, word)\n",
    "\n",
    "m, c = focus_stats(avg)\n",
    "print(m, c)\n",
    "print(average_focus(attention, predicted_corpus, word))\n",
    "\n",
    "sns.heatmap(avg[0].reshape(7,7), xticklabels=[], yticklabels=[], cbar=cbar, vmin=vmin, vmax=vmax) \n",
    "\n",
    "plt.scatter(c[0],c[1], marker='X', s=120)\n",
    "plt.title(word, fontdict= fontdict)\n",
    "plt.savefig(path+word+'.pdf')"
   ]
  },
  {
   "cell_type": "code",
   "execution_count": 70,
   "id": "51566325",
   "metadata": {},
   "outputs": [
    {
     "name": "stdout",
     "output_type": "stream",
     "text": [
      "len_all: 157673, len_word: 7368\n",
      "0.02543 (3.65, 3.93)\n",
      "(0.04681133059026364, (4.042286916395222, 4.0525447882736), (3.5518209850854148, 3.5481082988392227))\n"
     ]
    },
    {
     "data": {
      "image/png": "[encoded data removed]",
      "text/plain": [
       "<Figure size 432x288 with 1 Axes>"
      ]
     },
     "metadata": {},
     "output_type": "display_data"
    }
   ],
   "source": [
    "word = 'at'\n",
    "\n",
    "avg, corp = average_attention(attention, predicted_corpus, word)\n",
    "\n",
    "m, c = focus_stats(avg)\n",
    "print(m, c)\n",
    "print(average_focus(attention, predicted_corpus, word))\n",
    "\n",
    "sns.heatmap(avg[0].reshape(7,7), xticklabels=[], yticklabels=[], cbar=cbar, vmin=vmin, vmax=vmax) \n",
    "\n",
    "plt.scatter(c[0],c[1], marker='X', s=120)\n",
    "plt.title(word, fontdict= fontdict)\n",
    "plt.savefig(path+word+'.pdf')"
   ]
  },
  {
   "cell_type": "code",
   "execution_count": 71,
   "id": "ca92a60a",
   "metadata": {},
   "outputs": [
    {
     "name": "stdout",
     "output_type": "stream",
     "text": [
      "len_all: 157673, len_word: 1144\n",
      "After avg: 0.02958 (3.87, 4.84)\n",
      "Before avg: (0.050261280753395775, (4.1661800699300695, 4.400760489510486), (3.7521590986266884, 3.9634802392578976))\n"
     ]
    },
    {
     "data": {
      "image/png": "[encoded data removed]",
      "text/plain": [
       "<Figure size 432x288 with 1 Axes>"
      ]
     },
     "metadata": {},
     "output_type": "display_data"
    }
   ],
   "source": [
    "word = 'top'\n",
    "\n",
    "avg, corp = average_attention(attention, predicted_corpus, word)\n",
    "\n",
    "m, c = focus_stats(avg)\n",
    "print('After avg:', m, c)\n",
    "\n",
    "print('Before avg:', average_focus(attention, predicted_corpus, word))\n",
    "\n",
    "\n",
    "sns.heatmap(avg[0].reshape(7,7), xticklabels=[], yticklabels=[], cbar=cbar, vmin=vmin, vmax=vmax) \n",
    "\n",
    "plt.scatter(c[0],c[1], marker='X', s=120)\n",
    "plt.title(word, fontdict= fontdict)\n",
    "plt.savefig(path+word+'.pdf')"
   ]
  },
  {
   "cell_type": "code",
   "execution_count": 72,
   "id": "14c763aa",
   "metadata": {},
   "outputs": [
    {
     "data": {
      "text/plain": [
       "tank          897\n",
       "on             98\n",
       "bikini         79\n",
       "black          19\n",
       "purple          9\n",
       "pink            7\n",
       "the             7\n",
       "red             6\n",
       "white           6\n",
       "halter          6\n",
       "blue            3\n",
       "revealing       2\n",
       "gymnastics      1\n",
       "green           1\n",
       "print           1\n",
       "sleeved         1\n",
       "harlequin       1\n",
       "dtype: int64"
      ]
     },
     "execution_count": 72,
     "metadata": {},
     "output_type": "execute_result"
    }
   ],
   "source": [
    "corp.apply(lambda x: x.index('top'))\n",
    "w = []\n",
    "for i in corp.index:\n",
    "    j = corp.loc[i].index('top')\n",
    "    w.append(corp.loc[i][j-1])\n",
    "    \n",
    "w = pd.Series(w)\n",
    "w.value_counts()"
   ]
  },
  {
   "cell_type": "code",
   "execution_count": 73,
   "id": "3f02a901",
   "metadata": {},
   "outputs": [
    {
     "name": "stdout",
     "output_type": "stream",
     "text": [
      "len_all: 157673, len_word: 70\n",
      "After avg: 0.02676 (3.28, 4.46)\n",
      "Before avg: (0.05025542463575091, (3.983857142857142, 4.400142857142856), (3.871658678169627, 5.300726972856663))\n"
     ]
    },
    {
     "data": {
      "image/png": "[encoded data removed]",
      "text/plain": [
       "<Figure size 432x288 with 1 Axes>"
      ]
     },
     "metadata": {},
     "output_type": "display_data"
    }
   ],
   "source": [
    "word = 'above'\n",
    "\n",
    "avg, corp = average_attention(attention, predicted_corpus, word)\n",
    "\n",
    "m, c = focus_stats(avg)\n",
    "print('After avg:', m, c)\n",
    "\n",
    "print('Before avg:', average_focus(attention, predicted_corpus, word))\n",
    "\n",
    "sns.heatmap(avg[0].reshape(7,7), xticklabels=[], yticklabels=[], cbar=cbar, vmin=vmin, vmax=vmax) \n",
    "\n",
    "plt.scatter(c[0],c[1], marker='X', s=120)\n",
    "plt.title(word, fontdict= fontdict)\n",
    "plt.savefig(path+word+'.pdf')"
   ]
  },
  {
   "cell_type": "code",
   "execution_count": 74,
   "id": "863b34fe",
   "metadata": {},
   "outputs": [
    {
     "name": "stdout",
     "output_type": "stream",
     "text": [
      "len_all: 157673, len_word: 2116\n",
      "After avg: 0.02948 (3.35, 6.08)\n",
      "Before avg: (0.050807127204419086, (3.9620935727788273, 4.703610586011338), (3.504187925767458, 4.259429580042579))\n"
     ]
    },
    {
     "data": {
      "image/png": "[encoded data removed]",
      "text/plain": [
       "<Figure size 432x288 with 1 Axes>"
      ]
     },
     "metadata": {},
     "output_type": "display_data"
    }
   ],
   "source": [
    "word = 'over'\n",
    "\n",
    "avg, corp = average_attention(attention, predicted_corpus, word)\n",
    "\n",
    "m, c = focus_stats(avg)\n",
    "print('After avg:', m, c)\n",
    "\n",
    "print('Before avg:', average_focus(attention, predicted_corpus, word))\n",
    "\n",
    "sns.heatmap(avg[0].reshape(7,7), xticklabels=[], yticklabels=[], cbar=cbar, vmin=vmin, vmax=vmax) \n",
    "\n",
    "plt.scatter(c[0],c[1], marker='X', s=120)\n",
    "plt.title(word, fontdict= fontdict)\n",
    "plt.savefig(path+word+'.pdf')"
   ]
  },
  {
   "cell_type": "code",
   "execution_count": 75,
   "id": "3cf92395",
   "metadata": {},
   "outputs": [
    {
     "name": "stdout",
     "output_type": "stream",
     "text": [
      "len_all: 157673, len_word: 3\n",
      "After avg: 0.05211 (2.37, 1.51)\n",
      "Before avg: (0.05412333210309347, (3.2533333333333334, 2.0266666666666664), (15.131732801488113, 13.70800117258201))\n"
     ]
    },
    {
     "data": {
      "image/png": "[encoded data removed]",
      "text/plain": [
       "<Figure size 432x288 with 1 Axes>"
      ]
     },
     "metadata": {},
     "output_type": "display_data"
    }
   ],
   "source": [
    "word = 'below'\n",
    "\n",
    "avg, corp = average_attention(attention, predicted_corpus, word)\n",
    "\n",
    "m, c = focus_stats(avg)\n",
    "print('After avg:', m, c)\n",
    "\n",
    "print('Before avg:', average_focus(attention, predicted_corpus, word))\n",
    "\n",
    "sns.heatmap(avg[0].reshape(7,7), xticklabels=[], yticklabels=[], cbar=cbar, vmin=vmin, vmax=vmax) \n",
    "\n",
    "plt.scatter(c[0],c[1], marker='X', s=120)\n",
    "plt.title(word, fontdict= fontdict)\n",
    "plt.savefig(path+word+'.pdf')"
   ]
  },
  {
   "cell_type": "code",
   "execution_count": 77,
   "id": "75cfc3da",
   "metadata": {},
   "outputs": [
    {
     "name": "stdout",
     "output_type": "stream",
     "text": [
      "len_all: 157673, len_word: 0\n"
     ]
    },
    {
     "ename": "TypeError",
     "evalue": "unsupported operand type(s) for /: 'NoneType' and 'int'",
     "output_type": "error",
     "traceback": [
      "\u001b[0;31m---------------------------------------------------------------------------\u001b[0m",
      "\u001b[0;31mTypeError\u001b[0m                                 Traceback (most recent call last)",
      "\u001b[0;32m/tmp/ipykernel_704593/1212535981.py\u001b[0m in \u001b[0;36m<module>\u001b[0;34m\u001b[0m\n\u001b[1;32m      1\u001b[0m \u001b[0mword\u001b[0m \u001b[0;34m=\u001b[0m \u001b[0;34m'underneath'\u001b[0m\u001b[0;34m\u001b[0m\u001b[0;34m\u001b[0m\u001b[0m\n\u001b[1;32m      2\u001b[0m \u001b[0;34m\u001b[0m\u001b[0m\n\u001b[0;32m----> 3\u001b[0;31m \u001b[0mavg\u001b[0m\u001b[0;34m,\u001b[0m \u001b[0mcorp\u001b[0m \u001b[0;34m=\u001b[0m \u001b[0maverage_attention\u001b[0m\u001b[0;34m(\u001b[0m\u001b[0mattention\u001b[0m\u001b[0;34m,\u001b[0m \u001b[0mpredicted_corpus\u001b[0m\u001b[0;34m,\u001b[0m \u001b[0mword\u001b[0m\u001b[0;34m)\u001b[0m\u001b[0;34m\u001b[0m\u001b[0;34m\u001b[0m\u001b[0m\n\u001b[0m\u001b[1;32m      4\u001b[0m \u001b[0;34m\u001b[0m\u001b[0m\n\u001b[1;32m      5\u001b[0m \u001b[0mm\u001b[0m\u001b[0;34m,\u001b[0m \u001b[0mc\u001b[0m \u001b[0;34m=\u001b[0m \u001b[0mfocus_stats\u001b[0m\u001b[0;34m(\u001b[0m\u001b[0mavg\u001b[0m\u001b[0;34m)\u001b[0m\u001b[0;34m\u001b[0m\u001b[0;34m\u001b[0m\u001b[0m\n",
      "\u001b[0;32m/tmp/ipykernel_704593/2330445018.py\u001b[0m in \u001b[0;36maverage_attention\u001b[0;34m(attention, predicted_corpus, word)\u001b[0m\n\u001b[1;32m     20\u001b[0m         \u001b[0;32melse\u001b[0m\u001b[0;34m:\u001b[0m\u001b[0;34m\u001b[0m\u001b[0;34m\u001b[0m\u001b[0m\n\u001b[1;32m     21\u001b[0m             \u001b[0mmean_attention\u001b[0m \u001b[0;34m+=\u001b[0m \u001b[0ma\u001b[0m\u001b[0;34m\u001b[0m\u001b[0;34m\u001b[0m\u001b[0m\n\u001b[0;32m---> 22\u001b[0;31m     \u001b[0mmean_attention\u001b[0m \u001b[0;34m=\u001b[0m \u001b[0mmean_attention\u001b[0m\u001b[0;34m/\u001b[0m\u001b[0mlen\u001b[0m\u001b[0;34m(\u001b[0m\u001b[0mword_attentions\u001b[0m\u001b[0;34m)\u001b[0m\u001b[0;34m\u001b[0m\u001b[0;34m\u001b[0m\u001b[0m\n\u001b[0m\u001b[1;32m     23\u001b[0m \u001b[0;34m\u001b[0m\u001b[0m\n\u001b[1;32m     24\u001b[0m     \u001b[0;32mreturn\u001b[0m \u001b[0mmean_attention\u001b[0m\u001b[0;34m,\u001b[0m \u001b[0mpredicted_corpus\u001b[0m\u001b[0;34m.\u001b[0m\u001b[0mloc\u001b[0m\u001b[0;34m[\u001b[0m\u001b[0midx\u001b[0m\u001b[0;34m]\u001b[0m\u001b[0;34m\u001b[0m\u001b[0;34m\u001b[0m\u001b[0m\n",
      "\u001b[0;31mTypeError\u001b[0m: unsupported operand type(s) for /: 'NoneType' and 'int'"
     ]
    }
   ],
   "source": [
    "word = 'underneath'\n",
    "\n",
    "avg, corp = average_attention(attention, predicted_corpus, word)\n",
    "\n",
    "m, c = focus_stats(avg)\n",
    "print('After avg:', m, c)\n",
    "\n",
    "print('Before avg:', average_focus(attention, predicted_corpus, word))\n",
    "\n",
    "sns.heatmap(avg[0].reshape(7,7), xticklabels=[], yticklabels=[], cbar=cbar, vmin=vmin, vmax=vmax) \n",
    "\n",
    "plt.scatter(c[0],c[1], marker='X', s=120)\n",
    "plt.title(word, fontdict= fontdict)\n",
    "plt.savefig(path+word+'.pdf')"
   ]
  },
  {
   "cell_type": "code",
   "execution_count": 76,
   "id": "99fb3fe1",
   "metadata": {},
   "outputs": [
    {
     "name": "stdout",
     "output_type": "stream",
     "text": [
      "len_all: 157673, len_word: 112\n",
      "After avg: 0.03184 (3.86, 2.1399999999999997)\n",
      "Before avg: (0.05059972405433655, (4.160357142857142, 3.4076785714285704), (4.069441071741467, 3.5298563630740096))\n"
     ]
    },
    {
     "data": {
      "image/png": "[encoded data removed]",
      "text/plain": [
       "<Figure size 432x288 with 1 Axes>"
      ]
     },
     "metadata": {},
     "output_type": "display_data"
    }
   ],
   "source": [
    "word = 'under'\n",
    "\n",
    "avg, corp = average_attention(attention, predicted_corpus, word)\n",
    "\n",
    "m, c = focus_stats(avg)\n",
    "print('After avg:', m, c)\n",
    "\n",
    "print('Before avg:', average_focus(attention, predicted_corpus, word))\n",
    "\n",
    "sns.heatmap(avg[0].reshape(7,7), xticklabels=[], yticklabels=[], cbar=cbar, vmin=vmin, vmax=vmax) \n",
    "\n",
    "plt.scatter(c[0],c[1], marker='X', s=120)\n",
    "plt.title(word, fontdict= fontdict)\n",
    "plt.savefig(path+word+'.pdf')"
   ]
  },
  {
   "cell_type": "code",
   "execution_count": 78,
   "id": "c087f5fa",
   "metadata": {},
   "outputs": [
    {
     "name": "stdout",
     "output_type": "stream",
     "text": [
      "len_all: 157673, len_word: 105817\n",
      "After avg: 0.02625 (3.72, 4.87)\n",
      "Before avg: (0.047645562142366066, (4.051240726915347, 4.307313380647725), (3.552124750699262, 3.806941914499128))\n"
     ]
    },
    {
     "data": {
      "image/png": "[encoded data removed]",
      "text/plain": [
       "<Figure size 432x288 with 1 Axes>"
      ]
     },
     "metadata": {},
     "output_type": "display_data"
    }
   ],
   "source": [
    "word = 'in'\n",
    "\n",
    "avg, corp = average_attention(attention, predicted_corpus, word)\n",
    "\n",
    "m, c = focus_stats(avg)\n",
    "print('After avg:', m, c)\n",
    "\n",
    "print('Before avg:', average_focus(attention, predicted_corpus, word))\n",
    "\n",
    "sns.heatmap(avg[0].reshape(7,7), xticklabels=[], yticklabels=[], cbar=cbar, vmin=vmin, vmax=vmax) \n",
    "\n",
    "plt.scatter(c[0],c[1], marker='X', s=120)\n",
    "plt.title(word, fontdict= fontdict)\n",
    "plt.savefig(path+word+'.pdf')"
   ]
  },
  {
   "cell_type": "code",
   "execution_count": 65,
   "id": "0b245cf0",
   "metadata": {},
   "outputs": [
    {
     "data": {
      "text/plain": [
       "man            46155\n",
       "woman          13861\n",
       "girl            4992\n",
       "boy             4372\n",
       "standing        3874\n",
       "               ...  \n",
       "mountaintop        1\n",
       "door               1\n",
       "canoes             1\n",
       "kayaker            1\n",
       "sparks             1\n",
       "Length: 1049, dtype: int64"
      ]
     },
     "execution_count": 65,
     "metadata": {},
     "output_type": "execute_result"
    }
   ],
   "source": [
    "corp.apply(lambda x: x.index('in'))\n",
    "w = []\n",
    "for i in corp.index:\n",
    "    j = corp.loc[i].index('in')\n",
    "    w.append(corp.loc[i][j-1])\n",
    "    \n",
    "w = pd.Series(w)\n",
    "w.value_counts()"
   ]
  },
  {
   "cell_type": "code",
   "execution_count": 79,
   "id": "3d1bf617",
   "metadata": {},
   "outputs": [
    {
     "name": "stdout",
     "output_type": "stream",
     "text": [
      "len_all: 157673, len_word: 2650\n",
      "After avg: 0.02661 (3.39, 4.75)\n",
      "Before avg: (0.04957745821970814, (3.9947358490566054, 4.377641509433953), (3.518286325657563, 3.897527820268796))\n"
     ]
    },
    {
     "data": {
      "image/png": "[encoded data removed]",
      "text/plain": [
       "<Figure size 432x288 with 1 Axes>"
      ]
     },
     "metadata": {},
     "output_type": "display_data"
    }
   ],
   "source": [
    "word = 'into'\n",
    "\n",
    "avg, corp = average_attention(attention, predicted_corpus, word)\n",
    "\n",
    "m, c = focus_stats(avg)\n",
    "print('After avg:', m, c)\n",
    "\n",
    "print('Before avg:', average_focus(attention, predicted_corpus, word))\n",
    "\n",
    "sns.heatmap(avg[0].reshape(7,7), xticklabels=[], yticklabels=[], cbar=cbar, vmin=vmin, vmax=vmax) \n",
    "\n",
    "plt.scatter(c[0],c[1], marker='X', s=120)\n",
    "plt.title(word, fontdict= fontdict)\n",
    "plt.savefig(path+word+'.pdf')"
   ]
  },
  {
   "cell_type": "code",
   "execution_count": 80,
   "id": "765c7d20",
   "metadata": {},
   "outputs": [
    {
     "data": {
      "text/plain": [
       "jumping      741\n",
       "singing      692\n",
       "sings        114\n",
       "jumps        107\n",
       "diving       101\n",
       "            ... \n",
       "flying         1\n",
       "and            1\n",
       "height         1\n",
       "flip           1\n",
       "hamburger      1\n",
       "Length: 115, dtype: int64"
      ]
     },
     "execution_count": 80,
     "metadata": {},
     "output_type": "execute_result"
    }
   ],
   "source": [
    "corp.apply(lambda x: x.index('into'))\n",
    "w = []\n",
    "for i in corp.index:\n",
    "    j = corp.loc[i].index('into')\n",
    "    w.append(corp.loc[i][j-1])\n",
    "    \n",
    "w = pd.Series(w)\n",
    "w.value_counts()"
   ]
  },
  {
   "cell_type": "code",
   "execution_count": 81,
   "id": "10492cfc",
   "metadata": {},
   "outputs": [
    {
     "name": "stdout",
     "output_type": "stream",
     "text": [
      "len_all: 157673, len_word: 10\n",
      "0.03634 (4.6, 3.09)\n"
     ]
    },
    {
     "data": {
      "image/png": "[encoded data removed]",
      "text/plain": [
       "<Figure size 432x288 with 1 Axes>"
      ]
     },
     "metadata": {},
     "output_type": "display_data"
    }
   ],
   "source": [
    "word = 'inside'\n",
    "\n",
    "avg, corp = average_attention(attention, predicted_corpus, word)\n",
    "\n",
    "m, c = focus_stats(avg)\n",
    "print(m, c)\n",
    "\n",
    "sns.heatmap(avg[0].reshape(7,7), xticklabels=[], yticklabels=[], cbar=cbar, vmin=vmin, vmax=vmax) \n",
    "\n",
    "plt.scatter(c[0],c[1], marker='X', s=120)\n",
    "plt.title(word, fontdict= fontdict)\n",
    "plt.savefig(path+word+'.pdf')"
   ]
  },
  {
   "cell_type": "code",
   "execution_count": 82,
   "id": "89dbba38",
   "metadata": {},
   "outputs": [
    {
     "name": "stdout",
     "output_type": "stream",
     "text": [
      "len_all: 157673, len_word: 1201\n",
      "After avg: 0.02641 (3.53, 1.28)\n",
      "Before avg: (0.04602551996261254, (3.966319733555373, 3.6334054954204773), (3.516173207887627, 3.110610076380436))\n"
     ]
    },
    {
     "data": {
      "image/png": "[encoded data removed]",
      "text/plain": [
       "<Figure size 432x288 with 1 Axes>"
      ]
     },
     "metadata": {},
     "output_type": "display_data"
    }
   ],
   "source": [
    "word = 'outside'\n",
    "\n",
    "avg, corp = average_attention(attention, predicted_corpus, word)\n",
    "\n",
    "m, c = focus_stats(avg)\n",
    "print('After avg:', m, c)\n",
    "\n",
    "print('Before avg:', average_focus(attention, predicted_corpus, word))\n",
    "\n",
    "sns.heatmap(avg[0].reshape(7,7), xticklabels=[], yticklabels=[], cbar=cbar, vmin=vmin, vmax=vmax) \n",
    "\n",
    "plt.scatter(c[0],c[1], marker='X', s=120)\n",
    "plt.title(word, fontdict= fontdict)\n",
    "plt.savefig(path+word+'.pdf')"
   ]
  },
  {
   "cell_type": "code",
   "execution_count": 83,
   "id": "37d50ae1",
   "metadata": {},
   "outputs": [
    {
     "name": "stdout",
     "output_type": "stream",
     "text": [
      "len_all: 157673, len_word: 1542\n",
      "After avg: 0.0269 (3.58, 2.92)\n",
      "Before avg: (0.04606393895724404, (3.980570687418932, 3.83481841763943), (3.5116427354272264, 3.3444653549770225))\n"
     ]
    },
    {
     "data": {
      "image/png": "[encoded data removed]",
      "text/plain": [
       "<Figure size 432x288 with 1 Axes>"
      ]
     },
     "metadata": {},
     "output_type": "display_data"
    }
   ],
   "source": [
    "word = 'around'\n",
    "\n",
    "avg, corp = average_attention(attention, predicted_corpus, word)\n",
    "\n",
    "m, c = focus_stats(avg)\n",
    "print('After avg:', m, c)\n",
    "\n",
    "print('Before avg:', average_focus(attention, predicted_corpus, word))\n",
    "\n",
    "sns.heatmap(avg[0].reshape(7,7), xticklabels=[], yticklabels=[], cbar=cbar, vmin=vmin, vmax=vmax) \n",
    "\n",
    "plt.scatter(c[0],c[1], marker='X', s=120)\n",
    "plt.title(word, fontdict= fontdict)\n",
    "plt.savefig(path+word+'.pdf')"
   ]
  },
  {
   "cell_type": "code",
   "execution_count": 84,
   "id": "a2f3a00e",
   "metadata": {},
   "outputs": [
    {
     "name": "stdout",
     "output_type": "stream",
     "text": [
      "len_all: 157673, len_word: 5\n",
      "After avg: 0.03358 (4.220000000000001, 2.88)\n",
      "Before avg: (0.047474002838134764, (4.378, 3.4240000000000004), (18.434246781721008, 10.00665321066425))\n"
     ]
    },
    {
     "data": {
      "image/png": "[encoded data removed]",
      "text/plain": [
       "<Figure size 432x288 with 1 Axes>"
      ]
     },
     "metadata": {},
     "output_type": "display_data"
    }
   ],
   "source": [
    "word = 'between'\n",
    "\n",
    "avg, corp = average_attention(attention, predicted_corpus, word)\n",
    "\n",
    "m, c = focus_stats(avg)\n",
    "print('After avg:', m, c)\n",
    "\n",
    "print('Before avg:', average_focus(attention, predicted_corpus, word))\n",
    "\n",
    "sns.heatmap(avg[0].reshape(7,7), xticklabels=[], yticklabels=[], cbar=cbar, vmin=vmin, vmax=vmax) \n",
    "\n",
    "plt.scatter(c[0],c[1], marker='X', s=120)\n",
    "plt.title(word, fontdict= fontdict)\n",
    "plt.savefig(path+word+'.pdf')"
   ]
  },
  {
   "cell_type": "code",
   "execution_count": 85,
   "id": "6eab7600",
   "metadata": {},
   "outputs": [
    {
     "name": "stdout",
     "output_type": "stream",
     "text": [
      "len_all: 157673, len_word: 30\n",
      "After avg: 0.02809 (3.13, 2.34)\n",
      "Before avg: (0.05012733538945516, (4.028333333333333, 3.7840000000000003), (6.553945845841964, 4.664101195410338))\n"
     ]
    },
    {
     "data": {
      "image/png": "[encoded data removed]",
      "text/plain": [
       "<Figure size 432x288 with 1 Axes>"
      ]
     },
     "metadata": {},
     "output_type": "display_data"
    }
   ],
   "source": [
    "word = 'left'\n",
    "\n",
    "avg, corp = average_attention(attention, predicted_corpus, word)\n",
    "\n",
    "m, c = focus_stats(avg)\n",
    "print('After avg:', m, c)\n",
    "\n",
    "print('Before avg:', average_focus(attention, predicted_corpus, word))\n",
    "\n",
    "sns.heatmap(avg[0].reshape(7,7), xticklabels=[], yticklabels=[], cbar=cbar, vmin=vmin, vmax=vmax) \n",
    "\n",
    "plt.scatter(c[0],c[1], marker='X', s=120)\n",
    "plt.title(word, fontdict= fontdict)\n",
    "plt.savefig(path+word+'.pdf')"
   ]
  },
  {
   "cell_type": "code",
   "execution_count": 86,
   "id": "d5e6a0cb",
   "metadata": {},
   "outputs": [
    {
     "name": "stdout",
     "output_type": "stream",
     "text": [
      "len_all: 157673, len_word: 43\n",
      "After avg: 0.02858 (2.73, 3.23)\n",
      "Before avg: (0.05054069674292276, (3.6739534883720935, 3.943720930232559), (4.230987360112497, 5.334816475303506))\n"
     ]
    },
    {
     "data": {
      "image/png": "[encoded data removed]",
      "text/plain": [
       "<Figure size 432x288 with 1 Axes>"
      ]
     },
     "metadata": {},
     "output_type": "display_data"
    }
   ],
   "source": [
    "word = 'right'\n",
    "\n",
    "avg, corp = average_attention(attention, predicted_corpus, word)\n",
    "\n",
    "m, c = focus_stats(avg)\n",
    "print('After avg:', m, c)\n",
    "\n",
    "print('Before avg:', average_focus(attention, predicted_corpus, word))\n",
    "\n",
    "sns.heatmap(avg[0].reshape(7,7), xticklabels=[], yticklabels=[], cbar=cbar, vmin=vmin, vmax=vmax) \n",
    "\n",
    "plt.scatter(c[0],c[1], marker='X', s=120)\n",
    "plt.title(word, fontdict= fontdict)\n",
    "plt.savefig(path+word+'.pdf')"
   ]
  },
  {
   "cell_type": "code",
   "execution_count": 87,
   "id": "e77f847d",
   "metadata": {},
   "outputs": [
    {
     "name": "stdout",
     "output_type": "stream",
     "text": [
      "len_all: 157673, len_word: 373\n",
      "After avg: 0.02582 (3.47, 1.94)\n",
      "Before avg: (0.049577078934329444, (3.908069705093838, 3.720750670241287), (3.6260249193001686, 3.342490646360297))\n"
     ]
    },
    {
     "data": {
      "image/png": "[encoded data removed]",
      "text/plain": [
       "<Figure size 432x288 with 1 Axes>"
      ]
     },
     "metadata": {},
     "output_type": "display_data"
    }
   ],
   "source": [
    "word = 'behind'\n",
    "\n",
    "avg, corp = average_attention(attention, predicted_corpus, word)\n",
    "\n",
    "m, c = focus_stats(avg)\n",
    "print('After avg:', m, c)\n",
    "\n",
    "print('Before avg:', average_focus(attention, predicted_corpus, word))\n",
    "\n",
    "sns.heatmap(avg[0].reshape(7,7), xticklabels=[], yticklabels=[], cbar=cbar, vmin=vmin, vmax=vmax) \n",
    "\n",
    "plt.scatter(c[0],c[1], marker='X', s=120)\n",
    "plt.title(word, fontdict= fontdict)\n",
    "plt.savefig(path+word+'.pdf')"
   ]
  },
  {
   "cell_type": "code",
   "execution_count": 88,
   "id": "5bb71188",
   "metadata": {},
   "outputs": [
    {
     "name": "stdout",
     "output_type": "stream",
     "text": [
      "len_all: 157673, len_word: 11150\n",
      "After avg: 0.02623 (3.71, 1.63)\n",
      "Before avg: (0.04947423823745796, (3.918628699551571, 3.628854708520192), (3.426640057775849, 3.1121108361274095))\n"
     ]
    },
    {
     "data": {
      "image/png": "[encoded data removed]",
      "text/plain": [
       "<Figure size 432x288 with 1 Axes>"
      ]
     },
     "metadata": {},
     "output_type": "display_data"
    }
   ],
   "source": [
    "word = 'front'\n",
    "\n",
    "avg, corp = average_attention(attention, predicted_corpus, word)\n",
    "\n",
    "m, c = focus_stats(avg)\n",
    "print('After avg:', m, c)\n",
    "\n",
    "print('Before avg:', average_focus(attention, predicted_corpus, word))\n",
    "\n",
    "sns.heatmap(avg[0].reshape(7,7), xticklabels=[], yticklabels=[], cbar=cbar, vmin=vmin, vmax=vmax) \n",
    "\n",
    "plt.scatter(c[0],c[1], marker='X', s=120)\n",
    "plt.title('in/the '+word, fontdict= fontdict)\n",
    "plt.savefig(path+word+'.pdf')"
   ]
  },
  {
   "cell_type": "code",
   "execution_count": 54,
   "id": "8b87a70e",
   "metadata": {},
   "outputs": [
    {
     "data": {
      "text/plain": [
       "14        11\n",
       "16         8\n",
       "18         8\n",
       "55         6\n",
       "56        11\n",
       "          ..\n",
       "157632    13\n",
       "157637     9\n",
       "157647    13\n",
       "157665    12\n",
       "157667    12\n",
       "Length: 11150, dtype: int64"
      ]
     },
     "execution_count": 54,
     "metadata": {},
     "output_type": "execute_result"
    }
   ],
   "source": [
    "corp.apply(lambda x: x.index('front'))"
   ]
  },
  {
   "cell_type": "code",
   "execution_count": 56,
   "id": "24fa7f2d",
   "metadata": {},
   "outputs": [
    {
     "data": {
      "text/plain": [
       "in     11138\n",
       "the       12\n",
       "dtype: int64"
      ]
     },
     "execution_count": 56,
     "metadata": {},
     "output_type": "execute_result"
    }
   ],
   "source": [
    "corp.apply(lambda x: x.index('front'))\n",
    "w = []\n",
    "for i in corp.index:\n",
    "    j = corp.loc[i].index('front')\n",
    "    w.append(corp.loc[i][j-1])\n",
    "    \n",
    "w = pd.Series(w)\n",
    "w.value_counts()"
   ]
  },
  {
   "cell_type": "code",
   "execution_count": 51,
   "id": "76011cfe",
   "metadata": {},
   "outputs": [
    {
     "data": {
      "text/plain": [
       "1682    the\n",
       "1823    the\n",
       "2913    the\n",
       "3938    the\n",
       "4474    the\n",
       "4477    the\n",
       "4858    the\n",
       "4904    the\n",
       "5209    the\n",
       "5520    the\n",
       "8566    the\n",
       "8615    the\n",
       "dtype: object"
      ]
     },
     "execution_count": 51,
     "metadata": {},
     "output_type": "execute_result"
    }
   ],
   "source": [
    "w[w!='in']"
   ]
  },
  {
   "cell_type": "markdown",
   "id": "24fc75f1",
   "metadata": {},
   "source": [
    "## Misc"
   ]
  },
  {
   "cell_type": "code",
   "execution_count": 57,
   "id": "e8aed33c",
   "metadata": {},
   "outputs": [
    {
     "name": "stdout",
     "output_type": "stream",
     "text": [
      "len_all: 157673, len_word: 9098\n",
      "After avg: 0.03787 (3.35, 3.4)\n",
      "Before avg: (0.056054142758882444, (3.1961826775115423, 3.424520773796465), (3.202528499481685, 3.424317492531573))\n"
     ]
    },
    {
     "data": {
      "image/png": "[encoded data removed]",
      "text/plain": [
       "<Figure size 432x288 with 2 Axes>"
      ]
     },
     "metadata": {
      "needs_background": "light"
     },
     "output_type": "display_data"
    }
   ],
   "source": [
    "word = 'dog'\n",
    "\n",
    "avg, corp = average_attention(attention, predicted_corpus, word)\n",
    "\n",
    "m, c = focus_stats(avg)\n",
    "print('After avg:', m, c)\n",
    "\n",
    "print('Before avg:', average_focus(attention, predicted_corpus, word))\n",
    "\n",
    "sns.heatmap(avg[0].reshape(7,7), xticklabels=[], yticklabels=[], cbar=cbar, vmin=vmin, vmax=vmax) \n",
    "\n",
    "plt.scatter(c[0],c[1], marker='X', s=120)\n",
    "plt.title(word, fontdict= fontdict)\n",
    "plt.savefig('results/'+word+'.pdf')"
   ]
  },
  {
   "cell_type": "code",
   "execution_count": 58,
   "id": "337dac5f",
   "metadata": {},
   "outputs": [
    {
     "name": "stdout",
     "output_type": "stream",
     "text": [
      "len_all: 157673, len_word: 28514\n",
      "After avg: 0.02763 (3.15, 3.44)\n",
      "Before avg: (0.050244190285364206, (3.084570386476819, 3.099662621869965), (3.09100565642818, 3.092509055897195))\n"
     ]
    },
    {
     "data": {
      "image/png": "[encoded data removed]",
      "text/plain": [
       "<Figure size 432x288 with 2 Axes>"
      ]
     },
     "metadata": {
      "needs_background": "light"
     },
     "output_type": "display_data"
    }
   ],
   "source": [
    "word = 'woman'\n",
    "\n",
    "avg, corp = average_attention(attention, predicted_corpus, word)\n",
    "\n",
    "m, c = focus_stats(avg)\n",
    "print('After avg:', m, c)\n",
    "\n",
    "print('Before avg:', average_focus(attention, predicted_corpus, word))\n",
    "\n",
    "sns.heatmap(avg[0].reshape(7,7), xticklabels=[], yticklabels=[], cbar=cbar, vmin=vmin, vmax=vmax) \n",
    "\n",
    "plt.scatter(c[0],c[1], marker='X', s=120)\n",
    "plt.title(word, fontdict= fontdict)\n",
    "plt.savefig('results/'+word+'.pdf')"
   ]
  },
  {
   "cell_type": "code",
   "execution_count": 59,
   "id": "4abc2b18",
   "metadata": {},
   "outputs": [
    {
     "name": "stdout",
     "output_type": "stream",
     "text": [
      "len_all: 157673, len_word: 238\n",
      "After avg: 0.0421 (3.34, 3.31)\n",
      "Before avg: (0.05986337100758272, (3.1042436974789918, 3.2938235294117666), (3.4037817846817306, 3.526724690984518))\n"
     ]
    },
    {
     "data": {
      "image/png": "[encoded data removed]",
      "text/plain": [
       "<Figure size 432x288 with 2 Axes>"
      ]
     },
     "metadata": {
      "needs_background": "light"
     },
     "output_type": "display_data"
    }
   ],
   "source": [
    "word = 'bird'\n",
    "\n",
    "avg, corp = average_attention(attention, predicted_corpus, word)\n",
    "\n",
    "m, c = focus_stats(avg)\n",
    "print('After avg:', m, c)\n",
    "\n",
    "print('Before avg:', average_focus(attention, predicted_corpus, word))\n",
    "\n",
    "sns.heatmap(avg[0].reshape(7,7), xticklabels=[], yticklabels=[], cbar=cbar, vmin=vmin, vmax=vmax) \n",
    "\n",
    "plt.scatter(c[0],c[1], marker='X', s=120)\n",
    "plt.title(word, fontdict= fontdict)\n",
    "plt.savefig('results/'+word+'.pdf')"
   ]
  },
  {
   "cell_type": "code",
   "execution_count": 98,
   "id": "fb6b1b29",
   "metadata": {},
   "outputs": [
    {
     "name": "stdout",
     "output_type": "stream",
     "text": [
      "len_all: 157673, len_word: 24241\n",
      "After avg: 0.03074 (3.36, 3.39)\n",
      "Before avg: (0.05859944033674869, (3.1113266779423148, 3.2749832927684555), (3.1244435278497082, 3.2766172331193606))\n"
     ]
    },
    {
     "data": {
      "image/png": "[encoded data removed]",
      "text/plain": [
       "<Figure size 432x288 with 2 Axes>"
      ]
     },
     "metadata": {
      "needs_background": "light"
     },
     "output_type": "display_data"
    }
   ],
   "source": [
    "word = 'white'\n",
    "\n",
    "avg, corp = average_attention(attention, predicted_corpus, word)\n",
    "\n",
    "m, c = focus_stats(avg)\n",
    "print('After avg:', m, c)\n",
    "\n",
    "print('Before avg:', average_focus(attention, predicted_corpus, word))\n",
    "\n",
    "sns.heatmap(avg[0].reshape(7,7), xticklabels=[], yticklabels=[], cbar=cbar, vmin=vmin, vmax=vmax) \n",
    "\n",
    "plt.scatter(c[0],c[1], marker='X', s=120)\n",
    "plt.title(word)\n",
    "plt.savefig('results/'+word+'.pdf')"
   ]
  },
  {
   "cell_type": "code",
   "execution_count": 99,
   "id": "62b59f83",
   "metadata": {},
   "outputs": [
    {
     "name": "stdout",
     "output_type": "stream",
     "text": [
      "len_all: 157673, len_word: 16\n",
      "After avg: 0.03279 (2.55, 4.49)\n",
      "Before avg: (0.047219373285770416, (2.9399999999999995, 3.793125), (8.106844281627165, 9.060161279075519))\n"
     ]
    },
    {
     "data": {
      "image/png": "[encoded data removed]",
      "text/plain": [
       "<Figure size 432x288 with 2 Axes>"
      ]
     },
     "metadata": {
      "needs_background": "light"
     },
     "output_type": "display_data"
    }
   ],
   "source": [
    "word = 'perched'\n",
    "\n",
    "avg, corp = average_attention(attention, predicted_corpus, word)\n",
    "\n",
    "m, c = focus_stats(avg)\n",
    "print('After avg:', m, c)\n",
    "\n",
    "print('Before avg:', average_focus(attention, predicted_corpus, word))\n",
    "\n",
    "sns.heatmap(avg[0].reshape(7,7), xticklabels=[], yticklabels=[], cbar=cbar, vmin=vmin, vmax=vmax) \n",
    "\n",
    "plt.scatter(c[0],c[1], marker='X', s=120)\n",
    "plt.title(word)\n",
    "plt.savefig('results/'+word+'.pdf')"
   ]
  },
  {
   "cell_type": "code",
   "execution_count": 100,
   "id": "f244dde5",
   "metadata": {},
   "outputs": [
    {
     "name": "stdout",
     "output_type": "stream",
     "text": [
      "len_all: 157673, len_word: 52368\n",
      "After avg: 0.02634 (3.15, 4.23)\n",
      "Before avg: (0.04782755310077242, (3.017938435685952, 3.350499159792218), (3.0200379106233273, 3.354347336135508))\n"
     ]
    },
    {
     "data": {
      "image/png": "[encoded data removed]",
      "text/plain": [
       "<Figure size 432x288 with 2 Axes>"
      ]
     },
     "metadata": {
      "needs_background": "light"
     },
     "output_type": "display_data"
    }
   ],
   "source": [
    "word = 'on'\n",
    "\n",
    "avg, corp = average_attention(attention, predicted_corpus, word)\n",
    "\n",
    "m, c = focus_stats(avg)\n",
    "print('After avg:', m, c)\n",
    "\n",
    "print('Before avg:', average_focus(attention, predicted_corpus, word))\n",
    "\n",
    "sns.heatmap(avg[0].reshape(7,7), xticklabels=[], yticklabels=[], cbar=cbar, vmin=vmin, vmax=vmax) \n",
    "\n",
    "plt.scatter(c[0],c[1], marker='X', s=120)\n",
    "plt.title(word)\n",
    "plt.savefig('results/'+word+'.pdf')"
   ]
  },
  {
   "cell_type": "markdown",
   "id": "656fc1f0",
   "metadata": {},
   "source": [
    "# Word count in actual corpus"
   ]
  },
  {
   "cell_type": "code",
   "execution_count": 93,
   "id": "46030b8a",
   "metadata": {},
   "outputs": [
    {
     "name": "stdout",
     "output_type": "stream",
     "text": [
      "\u001b[0m\u001b[01;34mflickr30k\u001b[0m/  \u001b[01;34mflickr8k\u001b[0m/\r\n"
     ]
    }
   ],
   "source": [
    "ls ../resources"
   ]
  },
  {
   "cell_type": "code",
   "execution_count": null,
   "id": "388b4025",
   "metadata": {},
   "outputs": [],
   "source": []
  },
  {
   "cell_type": "code",
   "execution_count": 94,
   "id": "e31255eb",
   "metadata": {},
   "outputs": [],
   "source": [
    "resources = '../resources/flickr30k/'\n",
    "captions_path = resources + 'captions.csv'\n",
    "caps = pd.read_csv(captions_path)"
   ]
  },
  {
   "cell_type": "code",
   "execution_count": 98,
   "id": "a57552c2",
   "metadata": {},
   "outputs": [
    {
     "data": {
      "text/plain": [
       "{'over': 3651, 'under': 1221, 'below': 208, 'above': 673}"
      ]
     },
     "execution_count": 98,
     "metadata": {},
     "output_type": "execute_result"
    }
   ],
   "source": [
    "words = ['over', 'under', 'below', 'above']\n",
    "word_counts = {w:0 for w in words}\n",
    "for c in caps['caption']:\n",
    "    if c:\n",
    "        c = c.split(\" \")\n",
    "        for w in words:\n",
    "            if w in c:\n",
    "                word_counts[w] += 1\n",
    "                \n",
    "word_counts"
   ]
  },
  {
   "cell_type": "code",
   "execution_count": 99,
   "id": "21331cf1",
   "metadata": {},
   "outputs": [
    {
     "data": {
      "text/plain": [
       "{'on': 42292, 'in': 69576, 'inside': 913, 'between': 545, 'into': 3714}"
      ]
     },
     "execution_count": 99,
     "metadata": {},
     "output_type": "execute_result"
    }
   ],
   "source": [
    "words = ['on', 'in', 'inside', 'between', 'into']\n",
    "word_counts = {w:0 for w in words}\n",
    "for c in caps['caption']:\n",
    "    if c:\n",
    "        c = c.split(\" \")\n",
    "        for w in words:\n",
    "            if w in c:\n",
    "                word_counts[w] += 1\n",
    "                \n",
    "word_counts"
   ]
  },
  {
   "cell_type": "code",
   "execution_count": 101,
   "id": "1f977d43",
   "metadata": {},
   "outputs": [
    {
     "data": {
      "text/plain": [
       "{'outside': 4681, 'around': 3115, 'behind': 2800, 'front': 7511, 'at': 15659}"
      ]
     },
     "execution_count": 101,
     "metadata": {},
     "output_type": "execute_result"
    }
   ],
   "source": [
    "words = ['outside', 'around', 'behind', 'front', 'at']\n",
    "word_counts = {w:0 for w in words}\n",
    "for c in caps['caption']:\n",
    "    if c:\n",
    "        c = c.split(\" \")\n",
    "        for w in words:\n",
    "            if w in c:\n",
    "                word_counts[w] += 1\n",
    "                \n",
    "word_counts"
   ]
  },
  {
   "cell_type": "code",
   "execution_count": null,
   "id": "2c4f8487",
   "metadata": {},
   "outputs": [],
   "source": []
  },
  {
   "cell_type": "code",
   "execution_count": null,
   "id": "52c721f3",
   "metadata": {},
   "outputs": [],
   "source": []
  },
  {
   "cell_type": "code",
   "execution_count": null,
   "id": "68fdfab0",
   "metadata": {},
   "outputs": [],
   "source": []
  },
  {
   "cell_type": "markdown",
   "id": "70e39812",
   "metadata": {},
   "source": [
    "# Attention of POS tags"
   ]
  },
  {
   "cell_type": "code",
   "execution_count": null,
   "id": "9794ffd7",
   "metadata": {},
   "outputs": [],
   "source": []
  },
  {
   "cell_type": "code",
   "execution_count": 65,
   "id": "2847a3a7",
   "metadata": {},
   "outputs": [],
   "source": [
    "import nltk\n",
    "# pos tags of predicted\n",
    "\n",
    "pos_corpus = dict()\n",
    "for i, sent in predicted_corpus.items():\n",
    "    pos_corpus[i] = [pos[1] for pos in nltk.pos_tag(sent)]\n",
    "    "
   ]
  },
  {
   "cell_type": "code",
   "execution_count": 111,
   "id": "a1362120",
   "metadata": {},
   "outputs": [
    {
     "data": {
      "text/plain": [
       "[(' ', 'VB'),\n",
       " ('a', 'DT'),\n",
       " ('man', 'NN'),\n",
       " ('in', 'IN'),\n",
       " ('a', 'DT'),\n",
       " ('black', 'JJ'),\n",
       " ('shirt', 'NN'),\n",
       " ('is', 'VBZ'),\n",
       " ('walking', 'VBG'),\n",
       " ('down', 'RP'),\n",
       " ('the', 'DT'),\n",
       " ('street', 'NN'),\n",
       " ('.', '.'),\n",
       " ('<END>', 'VB')]"
      ]
     },
     "execution_count": 111,
     "metadata": {},
     "output_type": "execute_result"
    }
   ],
   "source": [
    "nltk.pos_tag(predicted_corpus[40])"
   ]
  },
  {
   "cell_type": "code",
   "execution_count": 73,
   "id": "9a99f43c",
   "metadata": {},
   "outputs": [
    {
     "data": {
      "text/plain": [
       "0"
      ]
     },
     "execution_count": 73,
     "metadata": {},
     "output_type": "execute_result"
    }
   ],
   "source": [
    "np.sum(pos_corpus.isnull())"
   ]
  },
  {
   "cell_type": "code",
   "execution_count": 72,
   "id": "0a324678",
   "metadata": {},
   "outputs": [
    {
     "data": {
      "text/plain": [
       "157673"
      ]
     },
     "execution_count": 72,
     "metadata": {},
     "output_type": "execute_result"
    }
   ],
   "source": [
    "len(pos_corpus)"
   ]
  },
  {
   "cell_type": "code",
   "execution_count": 70,
   "id": "9dbc8e18",
   "metadata": {},
   "outputs": [],
   "source": [
    "pos_corpus = pd.Series(pos_corpus)"
   ]
  },
  {
   "cell_type": "code",
   "execution_count": 82,
   "id": "8527a527",
   "metadata": {},
   "outputs": [
    {
     "name": "stdout",
     "output_type": "stream",
     "text": [
      "len_all: 157673, len_word: 157516\n",
      "After avg: 0.02857 (3.15, 3.54)\n",
      "Before avg: (0.05004756957229742, (3.1025191091698847, 3.3220138906523715), (3.106829747960944, 3.3232286060124627))\n"
     ]
    },
    {
     "data": {
      "image/png": "[encoded data removed]",
      "text/plain": [
       "<Figure size 432x288 with 2 Axes>"
      ]
     },
     "metadata": {
      "needs_background": "light"
     },
     "output_type": "display_data"
    }
   ],
   "source": [
    "word = 'NN'\n",
    "\n",
    "avg, corp = average_attention(attention, pos_corpus, word)\n",
    "\n",
    "m, c = focus_stats(avg)\n",
    "print('After avg:', m, c)\n",
    "\n",
    "print('Before avg:', average_focus(attention, pos_corpus, word))\n",
    "\n",
    "sns.heatmap(avg[0].reshape(7,7), xticklabels=[], yticklabels=[], cbar=cbar, vmin=vmin, vmax=vmax) \n",
    "\n",
    "plt.scatter(c[0],c[1], marker='X', s=120)\n",
    "plt.title('POS tag: '+word)\n",
    "plt.savefig('results/'+word+'.pdf')"
   ]
  },
  {
   "cell_type": "code",
   "execution_count": 83,
   "id": "4bb67429",
   "metadata": {},
   "outputs": [
    {
     "name": "stdout",
     "output_type": "stream",
     "text": [
      "len_all: 157673, len_word: 146714\n",
      "After avg: 0.02202 (3.61, 3.61)\n",
      "Before avg: (0.026550460206592418, (3.2214824761099896, 3.3314059326308283), (3.230326147825947, 3.3282394049250543))\n"
     ]
    },
    {
     "data": {
      "image/png": "[encoded data removed]",
      "text/plain": [
       "<Figure size 432x288 with 2 Axes>"
      ]
     },
     "metadata": {
      "needs_background": "light"
     },
     "output_type": "display_data"
    }
   ],
   "source": [
    "word = 'VB'\n",
    "\n",
    "avg, corp = average_attention(attention, pos_corpus, word)\n",
    "\n",
    "m, c = focus_stats(avg)\n",
    "print('After avg:', m, c)\n",
    "\n",
    "print('Before avg:', average_focus(attention, pos_corpus, word))\n",
    "\n",
    "sns.heatmap(avg[0].reshape(7,7), xticklabels=[], yticklabels=[], cbar=cbar, vmin=vmin, vmax=vmax) \n",
    "\n",
    "plt.scatter(c[0],c[1], marker='X', s=120)\n",
    "plt.title('POS tag: '+word)\n",
    "plt.savefig('results/'+word+'.pdf')"
   ]
  },
  {
   "cell_type": "code",
   "execution_count": 108,
   "id": "b973c89b",
   "metadata": {},
   "outputs": [
    {
     "name": "stdout",
     "output_type": "stream",
     "text": [
      "len_all: 157673, len_word: 45434\n",
      "After avg: 0.02636 (3.02, 4.17)\n",
      "Before avg: (0.04869825770623322, (3.0482669366553763, 3.2381133072148516), (3.051781254913382, 3.228212080039819))\n"
     ]
    },
    {
     "data": {
      "image/png": "[encoded data removed]",
      "text/plain": [
       "<Figure size 432x288 with 2 Axes>"
      ]
     },
     "metadata": {
      "needs_background": "light"
     },
     "output_type": "display_data"
    }
   ],
   "source": [
    "word = 'CC'\n",
    "\n",
    "avg, corp = average_attention(attention, pos_corpus, word)\n",
    "\n",
    "m, c = focus_stats(avg)\n",
    "print('After avg:', m, c)\n",
    "\n",
    "print('Before avg:', average_focus(attention, pos_corpus, word))\n",
    "\n",
    "sns.heatmap(avg[0].reshape(7,7), xticklabels=[], yticklabels=[], cbar=cbar, vmin=vmin, vmax=vmax) \n",
    "\n",
    "plt.scatter(c[0],c[1], marker='X', s=120)\n",
    "plt.title('POS tag: '+word)\n",
    "plt.savefig('results/'+word+'.pdf')"
   ]
  },
  {
   "cell_type": "code",
   "execution_count": 113,
   "id": "c8f3f251",
   "metadata": {},
   "outputs": [
    {
     "name": "stdout",
     "output_type": "stream",
     "text": [
      "len_all: 157673, len_word: 148570\n",
      "After avg: 0.02639 (3.22, 4.26)\n",
      "Before avg: (0.047788073119993946, (3.045234973413243, 3.327430907989467), (3.047338104478319, 3.3330896112266113))\n"
     ]
    },
    {
     "data": {
      "image/png": "[encoded data removed]",
      "text/plain": [
       "<Figure size 432x288 with 2 Axes>"
      ]
     },
     "metadata": {
      "needs_background": "light"
     },
     "output_type": "display_data"
    }
   ],
   "source": [
    "word = 'IN'\n",
    "\n",
    "avg, corp = average_attention(attention, pos_corpus, word)\n",
    "\n",
    "m, c = focus_stats(avg)\n",
    "print('After avg:', m, c)\n",
    "\n",
    "print('Before avg:', average_focus(attention, pos_corpus, word))\n",
    "\n",
    "sns.heatmap(avg[0].reshape(7,7), xticklabels=[], yticklabels=[], cbar=cbar, vmin=vmin, vmax=vmax) \n",
    "\n",
    "plt.scatter(c[0],c[1], marker='X', s=120)\n",
    "plt.title('POS tag: '+word)\n",
    "plt.savefig('results/'+word+'.pdf')"
   ]
  },
  {
   "cell_type": "code",
   "execution_count": null,
   "id": "04947bf7",
   "metadata": {},
   "outputs": [],
   "source": []
  }
 ],
 "metadata": {
  "kernelspec": {
   "display_name": "Python 3 (ipykernel)",
   "language": "python",
   "name": "python3"
  },
  "language_info": {
   "codemirror_mode": {
    "name": "ipython",
    "version": 3
   },
   "file_extension": ".py",
   "mimetype": "text/x-python",
   "name": "python",
   "nbconvert_exporter": "python",
   "pygments_lexer": "ipython3",
   "version": "3.9.6"
  }
 },
 "nbformat": 4,
 "nbformat_minor": 5
}
