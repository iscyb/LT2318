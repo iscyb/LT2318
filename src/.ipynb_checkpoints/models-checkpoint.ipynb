{
 "cells": [
  {
   "cell_type": "code",
   "execution_count": 1,
   "id": "b571f3e6",
   "metadata": {},
   "outputs": [],
   "source": [
    "import torch\n",
    "import torch.nn as nn\n",
    "import statistics\n",
    "import torchvision.models as models\n",
    "\n",
    "import preprocessing"
   ]
  },
  {
   "cell_type": "code",
   "execution_count": null,
   "id": "148b3700",
   "metadata": {},
   "outputs": [],
   "source": [
    "#https://www.youtube.com/watch?v=U0s0f995w14&ab_channel=AladdinPersson\n",
    "class Encoder(nn.module):\n",
    "    #https://pytorch.org/docs/stable/generated/torch.nn.Module.html\n",
    "    def __init__(self, encoded_image_size):\n",
    "        super(Encoder, self).__init__()\n",
    "        \n",
    "        self.enc_image_size = encoded_image_size\n",
    "        \n",
    "        resnet = torchvision.models.resnet101(pretrained=True)\n",
    "        # Remove linear and pool layers since we need features from the pre-trained CNN only\n",
    "        modules = list(resnet.children())[:-2]\n",
    "        self.resnet = nn.Sequential(*modules)\n",
    "        \n",
    "    def forward(self, images):\n",
    "    "
   ]
  }
 ],
 "metadata": {
  "kernelspec": {
   "display_name": "Python 3 (ipykernel)",
   "language": "python",
   "name": "python3"
  },
  "language_info": {
   "codemirror_mode": {
    "name": "ipython",
    "version": 3
   },
   "file_extension": ".py",
   "mimetype": "text/x-python",
   "name": "python",
   "nbconvert_exporter": "python",
   "pygments_lexer": "ipython3",
   "version": "3.9.5"
  }
 },
 "nbformat": 4,
 "nbformat_minor": 5
}
